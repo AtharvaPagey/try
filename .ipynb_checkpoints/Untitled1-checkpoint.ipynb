{
 "cells": [
  {
   "cell_type": "code",
   "execution_count": 1,
   "id": "5bcb7aa7-89f1-4e16-8d92-4281c5890b8a",
   "metadata": {},
   "outputs": [],
   "source": [
    "import tabula\n",
    "import pandas as pd\n",
    "from multiprocessing import Pool"
   ]
  },
  {
   "cell_type": "code",
   "execution_count": 2,
   "id": "b258378c-3017-41c7-b13a-d53d43812b67",
   "metadata": {},
   "outputs": [],
   "source": [
    "def process_page(page_number):\n",
    "    # Prints the page number without starting a new line to show progress\n",
    "    print(page_number, end=' ', flush=True)\n",
    "    dfs = tabula.read_pdf(path, pages=str(page_number), stream=True, silent=True)\n",
    "    if dfs:\n",
    "        return pd.concat(dfs, ignore_index=True)\n",
    "    return None"
   ]
  },
  {
   "cell_type": "code",
   "execution_count": 3,
   "id": "f76dd6cc-9b84-4bcc-98dd-b16ea9512e48",
   "metadata": {},
   "outputs": [],
   "source": [
    "# if __name__ == '__main__':\n",
    "#     print(\"Processing pages: \", end='', flush=True)\n",
    "#     with Pool() as p:\n",
    "#         results = p.map(process_page, pages_to_process)\n",
    "    \n",
    "#     valid_dataframes = [df for df in results if df is not None]\n",
    "\n",
    "#     if valid_dataframes:\n",
    "#         final_df = pd.concat(valid_dataframes, ignore_index=True)\n",
    "#         final_df.to_csv('output_parallel.csv', index=False)\n",
    "#         # Adds a final confirmation message\n",
    "#         print(\"\\n\\nDone. CSV file created.\")\n",
    "#     else:\n",
    "#         print(\"\\n\\nDone. No tables were found.\")"
   ]
  },
  {
   "cell_type": "code",
   "execution_count": 6,
   "id": "b1805631-a735-40af-926f-72823a209ba2",
   "metadata": {},
   "outputs": [],
   "source": [
    "import pdfplumber\n",
    "import pandas as pd\n",
    "import re\n",
    "\n",
    "pdf_path = \"data/pre_monsoon_2014_2024_split/pre_monsoon_2014_2024-1001-2000.pdf\"\n",
    "\n",
    "output_csv_path = r\"D:/pdftoexcel/data/pre_monsoon_2014_2024_split/csv_files/extracted_data_1001_2000.csv\"\n",
    "\n",
    "extracted_data = []\n",
    "\n",
    "# Using a slightly more robust regex to handle different number formats\n",
    "line_pattern = re.compile(r'(\\d+\\.?\\d*)\\s+(\\d+\\.?\\d*)\\s+(\\d{2}-\\d{2}-\\d{2})\\s+([\\d\\.]+)$')\n",
    "\n",
    "# --- FIX: Define line_buffer OUTSIDE the page loop ---\n",
    "line_buffer = \"\"\n",
    "\n",
    "with pdfplumber.open(pdf_path) as pdf:\n",
    "    for page in pdf.pages:\n",
    "        text = page.extract_text()\n",
    "        if not text:\n",
    "            continue\n",
    "\n",
    "        raw_lines = text.split('\\n')\n",
    "        processed_lines = []\n",
    "        \n",
    "        for line in raw_lines:\n",
    "            line_buffer += \" \" + line.strip()\n",
    "            if line_pattern.search(line_buffer):\n",
    "                processed_lines.append(line_buffer.strip())\n",
    "                line_buffer = \"\" # Reset buffer ONLY after a successful record is found\n",
    "\n",
    "        for line in processed_lines:\n",
    "            match = line_pattern.search(line)\n",
    "            if match:\n",
    "                latitude, longitude, date, wl = match.groups()\n",
    "                location_info = line[:match.start()].strip()\n",
    "                \n",
    "                extracted_data.append({\n",
    "                    'Location_Info': location_info,\n",
    "                    'Latitude': latitude,\n",
    "                    'Longitude': longitude,\n",
    "                    'Date': date,\n",
    "                    'WL(mbgl)': wl\n",
    "                })\n",
    "\n",
    "if extracted_data:\n",
    "    df = pd.DataFrame(extracted_data)\n",
    "    df.to_csv(output_csv_path, index=False)"
   ]
  },
  {
   "cell_type": "code",
   "execution_count": null,
   "id": "a70df395-4132-4f81-b059-6cb46e81ff4b",
   "metadata": {},
   "outputs": [],
   "source": []
  },
  {
   "cell_type": "code",
   "execution_count": 13,
   "id": "a9ec9485-6c89-4c98-bf53-b99ec37b7bde",
   "metadata": {},
   "outputs": [
    {
     "name": "stdout",
     "output_type": "stream",
     "text": [
      "Found 5 PDF files to process...\n"
     ]
    },
    {
     "name": "stderr",
     "output_type": "stream",
     "text": [
      "Processing PDFs: 100%|██████████████████████████████████████████████████████████████████| 5/5 [46:37<00:00, 559.47s/it]\n"
     ]
    }
   ],
   "source": [
    "import pdfplumber\n",
    "import pandas as pd\n",
    "import re\n",
    "import os\n",
    "import glob\n",
    "from tqdm import tqdm\n",
    "\n",
    "input_folder = r\"D:/pdftoexcel/data/pre_monsoon_2014_2024_split\"\n",
    "output_csv_path = r\"D:/pdftoexcel/data/pre_monsoon_2014_2024_split/csv_files/combined_extracted_data\"\n",
    "\n",
    "all_extracted_data = []\n",
    "line_pattern = re.compile(r'(\\d+\\.?\\d*)\\s+(\\d+\\.?\\d*)\\s+(\\d{2}-\\d{2}-\\d{2})\\s+([\\d\\.]+)$')\n",
    "\n",
    "pdf_files = glob.glob(os.path.join(input_folder, \"*.pdf\"))\n",
    "\n",
    "if not pdf_files:\n",
    "    print(f\"No PDF files found in the specified folder: {input_folder}\")\n",
    "else:\n",
    "    print(f\"Found {len(pdf_files)} PDF files to process...\")\n",
    "    n = len(pdf_files)\n",
    "    k = 1\n",
    "\n",
    "    for pdf_path in tqdm(pdf_files, desc=\"Processing PDFs\"):\n",
    "        try:\n",
    "            extracted_data = []\n",
    "            with pdfplumber.open(pdf_path) as pdf:\n",
    "                for page in pdf.pages:\n",
    "                    line_buffer = \"\"\n",
    "                    text = page.extract_text()\n",
    "                    if not text:\n",
    "                        continue\n",
    "\n",
    "                    raw_lines = text.split('\\n')\n",
    "                    processed_lines = []\n",
    "                    \n",
    "                    for line in raw_lines:\n",
    "                        line_buffer += \" \" + line.strip()\n",
    "                        if line_pattern.search(line_buffer):\n",
    "                            processed_lines.append(line_buffer.strip())\n",
    "                            line_buffer = \"\"\n",
    "\n",
    "                    for line in processed_lines:\n",
    "                        match = line_pattern.search(line)\n",
    "                        if match:\n",
    "                            latitude, longitude, date, wl = match.groups()\n",
    "                            location_info = line[:match.start()].strip()\n",
    "                            \n",
    "                            extracted_data.append({\n",
    "                                'Location_Info': location_info,\n",
    "                                'Latitude': float(latitude),\n",
    "                                'Longitude': float(longitude),\n",
    "                                'Date': date,\n",
    "                                'WL(mbgl)': float(wl)\n",
    "                            })\n",
    "            if k <= n:\n",
    "                new_output_csv_path = output_csv_path + f\"{k}\" + \".csv\"\n",
    "                k = k + 1\n",
    "            if extracted_data:\n",
    "                df = pd.DataFrame(extracted_data)\n",
    "                df.to_csv(new_output_csv_path, index=False)\n",
    "            else:\n",
    "                print(\"No data could be extracted from any of the PDF files.\")\n",
    "        except Exception as e:\n",
    "            print(f\"\\nAn error occurred while processing {os.path.basename(pdf_path)}: {e}\")\n",
    "            continue\n",
    "\n",
    "    # if all_extracted_data:\n",
    "    #     print(f\"\\nSuccessfully extracted {len(all_extracted_data)} records from all PDFs.\")\n",
    "    #     df = pd.DataFrame(all_extracted_data)\n",
    "        \n",
    "    #     output_dir = os.path.dirname(output_csv_path)\n",
    "    #     os.makedirs(output_dir, exist_ok=True)\n",
    "        \n",
    "    #     df.to_csv(output_csv_path, index=False)\n",
    "    #     print(f\"✅ All data has been saved to: {output_csv_path}\")\n"
   ]
  },
  {
   "cell_type": "code",
   "execution_count": 1,
   "id": "ba7ab09d-9825-46a5-8d99-cecacc4516a6",
   "metadata": {},
   "outputs": [
    {
     "name": "stdout",
     "output_type": "stream",
     "text": [
      "Successfully combined 4 non-empty files into D:/pdftoexcel/data/pre_monsoon_2004_2013_split/csv_files/combined_data.csv\n"
     ]
    }
   ],
   "source": [
    "import pandas as pd\n",
    "import glob\n",
    "import os\n",
    "\n",
    "folder_path = r'D:/pdftoexcel/data/pre_monsoon_2004_2013_split/csv_files'\n",
    "output_file = r'D:/pdftoexcel/data/pre_monsoon_2004_2013_split/csv_files/combined_data.csv'\n",
    "\n",
    "all_files = glob.glob(os.path.join(folder_path, \"*.csv\"))\n",
    "\n",
    "df_list = []\n",
    "for filename in all_files:\n",
    "    try:\n",
    "        df = pd.read_csv(filename, index_col=None, header=0)\n",
    "        df_list.append(df)\n",
    "    except pd.errors.EmptyDataError:\n",
    "        print(f\"Warning: Skipping empty file: {os.path.basename(filename)}\")\n",
    "        continue\n",
    "\n",
    "if df_list:\n",
    "    combined_df = pd.concat(df_list, axis=0, ignore_index=True)\n",
    "    combined_df.to_csv(output_file, index=False)\n",
    "    print(f\"Successfully combined {len(df_list)} non-empty files into {output_file}\")\n",
    "else:\n",
    "    print(f\"No CSV files with data were found in the specified folder: {folder_path}\")"
   ]
  },
  {
   "cell_type": "code",
   "execution_count": 1,
   "id": "97df6a32-7521-4464-a2ba-838e996f3ca7",
   "metadata": {},
   "outputs": [],
   "source": [
    "import pandas as pd\n",
    "import numpy as np\n",
    "from sklearn.preprocessing import StandardScaler\n",
    "from sklearn.model_selection import GridSearchCV\n",
    "from sklearn.preprocessing import OneHotEncoder\n",
    "from sklearn.compose import ColumnTransformer"
   ]
  },
  {
   "cell_type": "code",
   "execution_count": 2,
   "id": "cf861861-f15e-49e6-9e68-75660e83cff8",
   "metadata": {},
   "outputs": [
    {
     "name": "stdout",
     "output_type": "stream",
     "text": [
      "<class 'pandas.core.frame.DataFrame'>\n",
      "RangeIndex: 196930 entries, 0 to 196929\n",
      "Data columns (total 5 columns):\n",
      " #   Column         Non-Null Count   Dtype  \n",
      "---  ------         --------------   -----  \n",
      " 0   Location_Info  196930 non-null  object \n",
      " 1   Latitude       196930 non-null  float64\n",
      " 2   Longitude      196930 non-null  float64\n",
      " 3   Date           196930 non-null  object \n",
      " 4   WL(mbgl)       196930 non-null  float64\n",
      "dtypes: float64(3), object(2)\n",
      "memory usage: 7.5+ MB\n"
     ]
    }
   ],
   "source": [
    "df = pd.read_csv('data/pre_monsoon_2014_2024_split/csv_files/combined_extracted_data.csv')\n",
    "df.info()"
   ]
  },
  {
   "cell_type": "code",
   "execution_count": 3,
   "id": "50e05ca1-9e28-42ea-a044-e53c962b4218",
   "metadata": {},
   "outputs": [
    {
     "data": {
      "text/plain": [
       "Location_Info    0\n",
       "Latitude         0\n",
       "Longitude        0\n",
       "Date             0\n",
       "WL(mbgl)         0\n",
       "dtype: int64"
      ]
     },
     "execution_count": 3,
     "metadata": {},
     "output_type": "execute_result"
    }
   ],
   "source": [
    "df.isnull().sum()"
   ]
  },
  {
   "cell_type": "code",
   "execution_count": 4,
   "id": "2ecc124b-ff9d-4b9a-bb4e-32e178380663",
   "metadata": {},
   "outputs": [],
   "source": [
    "df.drop(inplace = True, columns = ['Location_Info'])\n",
    "df['date'] = pd.to_datetime(df['Date'], dayfirst = True)\n",
    "df.drop(columns = ['Date'], inplace = True)\n",
    "df['date'] = df['date'].astype(int)"
   ]
  },
  {
   "cell_type": "code",
   "execution_count": 5,
   "id": "ab1eff65-c1cd-4e7c-b35e-737970c6fd0a",
   "metadata": {},
   "outputs": [
    {
     "data": {
      "text/html": [
       "<div>\n",
       "<style scoped>\n",
       "    .dataframe tbody tr th:only-of-type {\n",
       "        vertical-align: middle;\n",
       "    }\n",
       "\n",
       "    .dataframe tbody tr th {\n",
       "        vertical-align: top;\n",
       "    }\n",
       "\n",
       "    .dataframe thead th {\n",
       "        text-align: right;\n",
       "    }\n",
       "</style>\n",
       "<table border=\"1\" class=\"dataframe\">\n",
       "  <thead>\n",
       "    <tr style=\"text-align: right;\">\n",
       "      <th></th>\n",
       "      <th>Latitude</th>\n",
       "      <th>Longitude</th>\n",
       "      <th>Date</th>\n",
       "      <th>WL(mbgl)</th>\n",
       "    </tr>\n",
       "  </thead>\n",
       "  <tbody>\n",
       "    <tr>\n",
       "      <th>0</th>\n",
       "      <td>13.27653</td>\n",
       "      <td>93.02364</td>\n",
       "      <td>10-04-24</td>\n",
       "      <td>1.73</td>\n",
       "    </tr>\n",
       "    <tr>\n",
       "      <th>1</th>\n",
       "      <td>13.27653</td>\n",
       "      <td>93.02364</td>\n",
       "      <td>30-04-23</td>\n",
       "      <td>1.93</td>\n",
       "    </tr>\n",
       "    <tr>\n",
       "      <th>2</th>\n",
       "      <td>13.27653</td>\n",
       "      <td>93.02364</td>\n",
       "      <td>30-04-22</td>\n",
       "      <td>1.13</td>\n",
       "    </tr>\n",
       "    <tr>\n",
       "      <th>3</th>\n",
       "      <td>13.27653</td>\n",
       "      <td>93.02364</td>\n",
       "      <td>30-04-19</td>\n",
       "      <td>0.49</td>\n",
       "    </tr>\n",
       "    <tr>\n",
       "      <th>4</th>\n",
       "      <td>13.27653</td>\n",
       "      <td>93.02364</td>\n",
       "      <td>30-04-18</td>\n",
       "      <td>0.47</td>\n",
       "    </tr>\n",
       "  </tbody>\n",
       "</table>\n",
       "</div>"
      ],
      "text/plain": [
       "   Latitude  Longitude      Date  WL(mbgl)\n",
       "0  13.27653   93.02364  10-04-24      1.73\n",
       "1  13.27653   93.02364  30-04-23      1.93\n",
       "2  13.27653   93.02364  30-04-22      1.13\n",
       "3  13.27653   93.02364  30-04-19      0.49\n",
       "4  13.27653   93.02364  30-04-18      0.47"
      ]
     },
     "execution_count": 5,
     "metadata": {},
     "output_type": "execute_result"
    }
   ],
   "source": [
    "df.head()"
   ]
  },
  {
   "cell_type": "code",
   "execution_count": 6,
   "id": "74b21098-5525-40e6-8f27-a79094cc209f",
   "metadata": {},
   "outputs": [
    {
     "name": "stdout",
     "output_type": "stream",
     "text": [
      "Latitude     float64\n",
      "Longitude    float64\n",
      "Date          object\n",
      "WL(mbgl)     float64\n",
      "dtype: object\n"
     ]
    }
   ],
   "source": [
    "print(df.dtypes)"
   ]
  },
  {
   "cell_type": "code",
   "execution_count": 7,
   "id": "11ffc17c-e73b-4a71-9d32-00bb39607c8d",
   "metadata": {},
   "outputs": [
    {
     "name": "stderr",
     "output_type": "stream",
     "text": [
      "C:\\Users\\HP\\AppData\\Local\\Temp\\ipykernel_20476\\3587036015.py:1: UserWarning: Could not infer format, so each element will be parsed individually, falling back to `dateutil`. To ensure parsing is consistent and as-expected, please specify a format.\n",
      "  df['date'] = pd.to_datetime(df['Date'], dayfirst = True)\n"
     ]
    }
   ],
   "source": []
  },
  {
   "cell_type": "code",
   "execution_count": 8,
   "id": "126186cf-678d-49be-8a7c-27b68f508f87",
   "metadata": {},
   "outputs": [
    {
     "data": {
      "text/html": [
       "<div>\n",
       "<style scoped>\n",
       "    .dataframe tbody tr th:only-of-type {\n",
       "        vertical-align: middle;\n",
       "    }\n",
       "\n",
       "    .dataframe tbody tr th {\n",
       "        vertical-align: top;\n",
       "    }\n",
       "\n",
       "    .dataframe thead th {\n",
       "        text-align: right;\n",
       "    }\n",
       "</style>\n",
       "<table border=\"1\" class=\"dataframe\">\n",
       "  <thead>\n",
       "    <tr style=\"text-align: right;\">\n",
       "      <th></th>\n",
       "      <th>Latitude</th>\n",
       "      <th>Longitude</th>\n",
       "      <th>WL(mbgl)</th>\n",
       "      <th>date</th>\n",
       "    </tr>\n",
       "  </thead>\n",
       "  <tbody>\n",
       "    <tr>\n",
       "      <th>0</th>\n",
       "      <td>13.27653</td>\n",
       "      <td>93.02364</td>\n",
       "      <td>1.73</td>\n",
       "      <td>1712707200000000000</td>\n",
       "    </tr>\n",
       "    <tr>\n",
       "      <th>1</th>\n",
       "      <td>13.27653</td>\n",
       "      <td>93.02364</td>\n",
       "      <td>1.93</td>\n",
       "      <td>1682812800000000000</td>\n",
       "    </tr>\n",
       "    <tr>\n",
       "      <th>2</th>\n",
       "      <td>13.27653</td>\n",
       "      <td>93.02364</td>\n",
       "      <td>1.13</td>\n",
       "      <td>1651276800000000000</td>\n",
       "    </tr>\n",
       "    <tr>\n",
       "      <th>3</th>\n",
       "      <td>13.27653</td>\n",
       "      <td>93.02364</td>\n",
       "      <td>0.49</td>\n",
       "      <td>1556582400000000000</td>\n",
       "    </tr>\n",
       "    <tr>\n",
       "      <th>4</th>\n",
       "      <td>13.27653</td>\n",
       "      <td>93.02364</td>\n",
       "      <td>0.47</td>\n",
       "      <td>1525046400000000000</td>\n",
       "    </tr>\n",
       "  </tbody>\n",
       "</table>\n",
       "</div>"
      ],
      "text/plain": [
       "   Latitude  Longitude  WL(mbgl)                 date\n",
       "0  13.27653   93.02364      1.73  1712707200000000000\n",
       "1  13.27653   93.02364      1.93  1682812800000000000\n",
       "2  13.27653   93.02364      1.13  1651276800000000000\n",
       "3  13.27653   93.02364      0.49  1556582400000000000\n",
       "4  13.27653   93.02364      0.47  1525046400000000000"
      ]
     },
     "execution_count": 8,
     "metadata": {},
     "output_type": "execute_result"
    }
   ],
   "source": [
    "df.head()"
   ]
  },
  {
   "cell_type": "code",
   "execution_count": 9,
   "id": "53220f63-ee31-46fe-82a2-0a92e42ed9f2",
   "metadata": {},
   "outputs": [],
   "source": [
    "numcol = ['Latitude', 'Longitude', 'date']"
   ]
  },
  {
   "cell_type": "code",
   "execution_count": 10,
   "id": "82c58acf-fa73-4604-874b-60bcf7797c71",
   "metadata": {},
   "outputs": [],
   "source": [
    "y = df['WL(mbgl)']\n",
    "df.drop(columns = ['WL(mbgl)'], inplace = True)\n",
    "X = df"
   ]
  },
  {
   "cell_type": "code",
   "execution_count": 11,
   "id": "dc56f2a7-45a9-4abc-bae4-e1b9393c4cd0",
   "metadata": {},
   "outputs": [],
   "source": [
    "transformer = ColumnTransformer(\n",
    "    transformers = [\n",
    "        ('SS', StandardScaler(), numcol)\n",
    "    ], remainder = 'passthrough'\n",
    ")"
   ]
  },
  {
   "cell_type": "code",
   "execution_count": 12,
   "id": "774da8a4-5b59-4e4d-9487-b0b37c1421d0",
   "metadata": {},
   "outputs": [],
   "source": [
    "X = transformer.fit_transform(X)"
   ]
  },
  {
   "cell_type": "code",
   "execution_count": 13,
   "id": "b2884df1-d45c-482d-abda-aa9a8f4bed2b",
   "metadata": {},
   "outputs": [
    {
     "data": {
      "text/html": [
       "<div>\n",
       "<style scoped>\n",
       "    .dataframe tbody tr th:only-of-type {\n",
       "        vertical-align: middle;\n",
       "    }\n",
       "\n",
       "    .dataframe tbody tr th {\n",
       "        vertical-align: top;\n",
       "    }\n",
       "\n",
       "    .dataframe thead th {\n",
       "        text-align: right;\n",
       "    }\n",
       "</style>\n",
       "<table border=\"1\" class=\"dataframe\">\n",
       "  <thead>\n",
       "    <tr style=\"text-align: right;\">\n",
       "      <th></th>\n",
       "      <th>0</th>\n",
       "      <th>1</th>\n",
       "      <th>2</th>\n",
       "    </tr>\n",
       "  </thead>\n",
       "  <tbody>\n",
       "    <tr>\n",
       "      <th>0</th>\n",
       "      <td>-1.246681</td>\n",
       "      <td>2.67914</td>\n",
       "      <td>1.459688</td>\n",
       "    </tr>\n",
       "    <tr>\n",
       "      <th>1</th>\n",
       "      <td>-1.246681</td>\n",
       "      <td>2.67914</td>\n",
       "      <td>1.170517</td>\n",
       "    </tr>\n",
       "    <tr>\n",
       "      <th>2</th>\n",
       "      <td>-1.246681</td>\n",
       "      <td>2.67914</td>\n",
       "      <td>0.865467</td>\n",
       "    </tr>\n",
       "    <tr>\n",
       "      <th>3</th>\n",
       "      <td>-1.246681</td>\n",
       "      <td>2.67914</td>\n",
       "      <td>-0.050519</td>\n",
       "    </tr>\n",
       "    <tr>\n",
       "      <th>4</th>\n",
       "      <td>-1.246681</td>\n",
       "      <td>2.67914</td>\n",
       "      <td>-0.355569</td>\n",
       "    </tr>\n",
       "  </tbody>\n",
       "</table>\n",
       "</div>"
      ],
      "text/plain": [
       "          0        1         2\n",
       "0 -1.246681  2.67914  1.459688\n",
       "1 -1.246681  2.67914  1.170517\n",
       "2 -1.246681  2.67914  0.865467\n",
       "3 -1.246681  2.67914 -0.050519\n",
       "4 -1.246681  2.67914 -0.355569"
      ]
     },
     "execution_count": 13,
     "metadata": {},
     "output_type": "execute_result"
    }
   ],
   "source": [
    "pd.DataFrame(X).head()"
   ]
  },
  {
   "cell_type": "code",
   "execution_count": null,
   "id": "98f9056b-5e6e-42d0-bf58-6f588efba3ac",
   "metadata": {},
   "outputs": [],
   "source": []
  },
  {
   "cell_type": "code",
   "execution_count": null,
   "id": "e66ea33a-9daf-4aad-9a79-da59b49e72da",
   "metadata": {},
   "outputs": [],
   "source": []
  },
  {
   "cell_type": "code",
   "execution_count": null,
   "id": "bb5157ff-f567-4afe-8a77-41538e6b099a",
   "metadata": {},
   "outputs": [],
   "source": []
  },
  {
   "cell_type": "code",
   "execution_count": null,
   "id": "5dd8bbcc-f367-4b80-b0fb-c5b1b7f3e6df",
   "metadata": {},
   "outputs": [],
   "source": []
  }
 ],
 "metadata": {
  "kernelspec": {
   "display_name": "Python 3 (ipykernel)",
   "language": "python",
   "name": "python3"
  },
  "language_info": {
   "codemirror_mode": {
    "name": "ipython",
    "version": 3
   },
   "file_extension": ".py",
   "mimetype": "text/x-python",
   "name": "python",
   "nbconvert_exporter": "python",
   "pygments_lexer": "ipython3",
   "version": "3.13.0"
  }
 },
 "nbformat": 4,
 "nbformat_minor": 5
}
