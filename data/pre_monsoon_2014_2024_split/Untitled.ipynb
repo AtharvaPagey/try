{
 "cells": [
  {
   "cell_type": "code",
   "execution_count": 4,
   "id": "7350b8ae-a0f6-4743-a64a-01ecd37883e1",
   "metadata": {},
   "outputs": [],
   "source": [
    "import pdfplumber\n",
    "import pandas as pd\n",
    "import re\n",
    "\n",
    "pdf_path = \"D:/pdftoexcel/data/pre_monsoon_1994_2003_split/pre_monsoon_1994_2003-2001-3047.pdf\"\n",
    "\n",
    "output_csv_path = r\"D:/pdftoexcel/data/pre_monsoon_1994_2003_split/csv_dataset/extracted_data_2001_3047.csv\"\n",
    "\n",
    "extracted_data = []\n",
    "\n",
    "# Using a slightly more robust regex to handle different number formats\n",
    "line_pattern = re.compile(r'(\\d+\\.?\\d*)\\s+(\\d+\\.?\\d*)\\s+(\\d{2}-\\d{2}-\\d{2})\\s+([\\d\\.]+)$')\n",
    "\n",
    "# --- FIX: Define line_buffer OUTSIDE the page loop ---\n",
    "line_buffer = \"\"\n",
    "\n",
    "with pdfplumber.open(pdf_path) as pdf:\n",
    "    for page in pdf.pages:\n",
    "        text = page.extract_text()\n",
    "        if not text:\n",
    "            continue\n",
    "\n",
    "        raw_lines = text.split('\\n')\n",
    "        processed_lines = []\n",
    "        \n",
    "        for line in raw_lines:\n",
    "            line_buffer += \" \" + line.strip()\n",
    "            if line_pattern.search(line_buffer):\n",
    "                processed_lines.append(line_buffer.strip())\n",
    "                line_buffer = \"\" # Reset buffer ONLY after a successful record is found\n",
    "\n",
    "        for line in processed_lines:\n",
    "            match = line_pattern.search(line)\n",
    "            if match:\n",
    "                latitude, longitude, date, wl = match.groups()\n",
    "                location_info = line[:match.start()].strip()\n",
    "                \n",
    "                extracted_data.append({\n",
    "                    'Location_Info': location_info,\n",
    "                    'Latitude': latitude,\n",
    "                    'Longitude': longitude,\n",
    "                    'Date': date,\n",
    "                    'WL(mbgl)': wl\n",
    "                })\n",
    "\n",
    "if extracted_data:\n",
    "    df = pd.DataFrame(extracted_data)\n",
    "    df.to_csv(output_csv_path, index=False)"
   ]
  },
  {
   "cell_type": "code",
   "execution_count": null,
   "id": "c90b3506-1a33-45e1-ade0-58d1d551a0dc",
   "metadata": {},
   "outputs": [],
   "source": []
  }
 ],
 "metadata": {
  "kernelspec": {
   "display_name": "Python 3 (ipykernel)",
   "language": "python",
   "name": "python3"
  },
  "language_info": {
   "codemirror_mode": {
    "name": "ipython",
    "version": 3
   },
   "file_extension": ".py",
   "mimetype": "text/x-python",
   "name": "python",
   "nbconvert_exporter": "python",
   "pygments_lexer": "ipython3",
   "version": "3.13.0"
  }
 },
 "nbformat": 4,
 "nbformat_minor": 5
}
